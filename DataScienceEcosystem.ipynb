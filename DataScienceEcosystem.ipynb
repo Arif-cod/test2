{
 "cells": [
  {
   "cell_type": "markdown",
   "id": "4b057e75-fed6-4566-951a-43e2e73a836a",
   "metadata": {
    "tags": []
   },
   "source": [
    "    Data Science Tools and Ecosystem"
   ]
  },
  {
   "cell_type": "markdown",
   "id": "5c67bc47-4070-4d5f-9a4f-b412eb47a81a",
   "metadata": {},
   "source": [
    "In this notebook, Data Science Tools and Ecosystem are summarized."
   ]
  },
  {
   "cell_type": "markdown",
   "id": "8d834b23-9c8f-46d3-98d7-c176666b3eff",
   "metadata": {},
   "source": [
    "Objectives:\n",
    "* Ordered list*\n",
    "* Data Science Tools*\n",
    "* List popular languages for Data Science*\n"
   ]
  },
  {
   "cell_type": "markdown",
   "id": "89cee284-ede5-447e-81aa-675c5e2e4f9c",
   "metadata": {},
   "source": [
    "Some of the popular languages that Data Scientists use are:"
   ]
  },
  {
   "cell_type": "markdown",
   "id": "5ad3336f-4867-4df1-a498-14dc580b539a",
   "metadata": {},
   "source": [
    "Ordered list"
   ]
  },
  {
   "cell_type": "markdown",
   "id": "3722eec5-519c-4dff-826d-de8bd16fc5cc",
   "metadata": {
    "tags": []
   },
   "source": [
    "Python\n",
    "R\n",
    "NoSQL"
   ]
  },
  {
   "cell_type": "markdown",
   "id": "f254698e-67b6-4f43-9a23-abf584a45b89",
   "metadata": {},
   "source": [
    "Some of the commonly used libraries used by Data Scientists include:"
   ]
  },
  {
   "cell_type": "markdown",
   "id": "6a5ae7b9-5620-4633-911d-a792b3f9c9f7",
   "metadata": {
    "tags": []
   },
   "source": [
    "Ordered List:\n",
    "    NyumP\n",
    "    ggplot\n",
    "    dplyr"
   ]
  },
  {
   "cell_type": "raw",
   "id": "44011549-3f78-424a-b0db-1f421db449f7",
   "metadata": {},
   "source": [
    "Data Science Tools\n",
    "GitHub\n",
    "Jupyter\n",
    "Google Colloab"
   ]
  },
  {
   "cell_type": "markdown",
   "id": "872ef161-a6e8-4c87-8940-539e7ec5cd28",
   "metadata": {},
   "source": [
    "        Below are a few examples of evaluating arithmetic expressions in Python"
   ]
  },
  {
   "cell_type": "code",
   "execution_count": 11,
   "id": "d71be904-4b5b-47c7-ad15-3bac86add28f",
   "metadata": {
    "tags": []
   },
   "outputs": [
    {
     "data": {
      "text/plain": [
       "17"
      ]
     },
     "execution_count": 11,
     "metadata": {},
     "output_type": "execute_result"
    }
   ],
   "source": [
    "'This a simple arithmetic expression to mutiply then add integers'\n",
    "(3*4)+5\n"
   ]
  },
  {
   "cell_type": "code",
   "execution_count": 33,
   "id": "a32b9754-e36b-4932-be5a-6e948d4c55d2",
   "metadata": {
    "tags": []
   },
   "outputs": [
    {
     "name": "stdout",
     "output_type": "stream",
     "text": [
      "(3, 20)\n"
     ]
    }
   ],
   "source": [
    " 'This will convert 200 minutes to hours by diving by 60'\n",
    "     \n",
    "minutes = 200\n",
    "hours_and_minutes = divmod(minutes, 60)\n",
    "print(eta_in_hours_and_minutes)"
   ]
  },
  {
   "cell_type": "markdown",
   "id": "8eaff401-c23c-4bee-918d-48c3e25ad729",
   "metadata": {},
   "source": [
    "    Atuthor: \n",
    "    Arif Muftu"
   ]
  }
 ],
 "metadata": {
  "kernelspec": {
   "display_name": "Python",
   "language": "python",
   "name": "conda-env-python-py"
  },
  "language_info": {
   "codemirror_mode": {
    "name": "ipython",
    "version": 3
   },
   "file_extension": ".py",
   "mimetype": "text/x-python",
   "name": "python",
   "nbconvert_exporter": "python",
   "pygments_lexer": "ipython3",
   "version": "3.7.12"
  }
 },
 "nbformat": 4,
 "nbformat_minor": 5
}
